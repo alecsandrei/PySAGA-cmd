{
 "cells": [
  {
   "cell_type": "markdown",
   "metadata": {},
   "source": [
    "This notebook presents an example on how to use Pipelines to chain tools using the PySAGA-cmd package.\n",
    "\n",
    "This example focuses on getting a hidrologically preprocessed DEM. This is done by chaining two SAGA GIS tools:\n",
    "\n",
    "- Sink Drainage Route Detection\n",
    "- Sink Removal"
   ]
  },
  {
   "cell_type": "code",
   "execution_count": 1,
   "metadata": {},
   "outputs": [],
   "source": [
    "from PySAGA_cmd import (\n",
    "    SAGA,\n",
    "    get_sample_dem\n",
    ")"
   ]
  },
  {
   "cell_type": "code",
   "execution_count": 2,
   "metadata": {},
   "outputs": [
    {
     "name": "stdout",
     "output_type": "stream",
     "text": [
      "Path to \"saga_cmd\" was not provided. Attempting to find it.\n",
      "saga_cmd found at \"saga_cmd\".\n",
      "____________________________\n",
      "\n",
      "   #####   ##   #####    ##\n",
      "  ###     ###  ##       ###\n",
      "   ###   # ## ##  #### # ##\n",
      "    ### ##### ##    # #####\n",
      " ##### #   ##  ##### #   ##\n",
      "____________________________\n",
      "\n",
      "SAGA Version: 8.5.1\n",
      "\n",
      "\n",
      "Library:\tPreprocessing\n",
      "Category:\tTerrain Analysis\n",
      "File:\t/usr/local/lib/saga/libta_preprocessor.so\n",
      "Description:\n",
      "Tools for the preprocessing of digital terrain models.\n",
      "\n",
      "Tools:\n",
      " [0]\tFlat Detection\n",
      " [1]\tSink Drainage Route Detection\n",
      " [2]\tSink Removal\n",
      " [3]\tFill Sinks (Planchon/Darboux, 2001)\n",
      " [4]\tFill Sinks (Wang & Liu)\n",
      " [5]\tFill Sinks XXL (Wang & Liu)\n",
      " [6]\tBurn Stream Network into DEM\n",
      " [7]\tBreach Depressions\n",
      "\n",
      "type -h or --help for further information\n",
      "\n",
      "\n"
     ]
    }
   ],
   "source": [
    "saga = SAGA()\n",
    "preprocessing = saga / 'ta_preprocessor'\n",
    "print(preprocessing.execute().stdout)"
   ]
  },
  {
   "cell_type": "code",
   "execution_count": 9,
   "metadata": {},
   "outputs": [
    {
     "name": "stdout",
     "output_type": "stream",
     "text": [
      "Object type: <class 'PySAGA_cmd.saga.Pipeline'>\n",
      "Tools: [Tool(library=Library(saga=SAGA(saga_cmd=SAGACMD(path=PosixPath('saga_cmd')), version=Version(major=8, minor=5, patch=1)), library='ta_preprocessor'), tool='Sink Drainage Route Detection', parameters={'elevation': '/media/alex/alex/python-modules-packages-utils/scripts/geomorphology/tools/PySAGA_cmd/PySAGA_cmd/assets/DEM_30m.tif', 'sinkroute': '/tmp/tmp7vwnzyj3/sinkroute_1713088461.tif'}), Tool(library=Library(saga=SAGA(saga_cmd=SAGACMD(path=PosixPath('saga_cmd')), version=Version(major=8, minor=5, patch=1)), library='ta_preprocessor'), tool='Sink Removal', parameters={'dem': '/media/alex/alex/python-modules-packages-utils/scripts/geomorphology/tools/PySAGA_cmd/PySAGA_cmd/assets/DEM_30m.tif', 'sinkroute': '/tmp/tmp7vwnzyj3/sinkroute_1713088461.tif', 'dem_preproc': '/tmp/tmp7vwnzyj3/dem_preproc_1713088461.tif'})]\n",
      "Tool count: 2\n",
      "\n",
      "-------------------------\n",
      "ta_preprocessor / Sink Drainage Route Detection\n",
      "    -ELEVATION=/media/alex/alex/python-modules-packages-utils/scripts/geomorphology/tools/PySAGA_cmd/PySAGA_cmd/assets/DEM_30m.tif -SINKROUTE=/tmp/tmp7vwnzyj3/sinkroute_1713088461.tif\n",
      "\n",
      "[████████████████████████████████████████████████████████████] 100/100% | Elapsed time: 0:00:02        \n",
      "-------------------------\n",
      "ta_preprocessor / Sink Removal\n",
      "    -DEM=/media/alex/alex/python-modules-packages-utils/scripts/geomorphology/tools/PySAGA_cmd/PySAGA_cmd/assets/DEM_30m.tif -SINKROUTE=/tmp/tmp7vwnzyj3/sinkroute_1713088461.tif -DEM_PREPROC=/tmp/tmp7vwnzyj3/dem_preproc_1713088461.tif\n",
      "\n",
      "[████████████████████████████████████████████████████████████] 100/100% | Elapsed time: 0:00:02        \n"
     ]
    }
   ],
   "source": [
    "route_detection = preprocessing / 'Sink Drainage Route Detection'\n",
    "sink_removal = preprocessing / 'Sink Removal'\n",
    "\n",
    "sample_dem = get_sample_dem()\n",
    "\n",
    "pipeline = (\n",
    "    route_detection(elevation=sample_dem, sinkroute='temp.tif')\n",
    "    | sink_removal(dem=route_detection.elevation, sinkroute=route_detection.sinkroute,\n",
    "                   dem_preproc='temp.tif')\n",
    ")\n",
    "\n",
    "print('Object type:', type(pipeline))\n",
    "print('Tools:', pipeline.tools)\n",
    "print('Tool count:', len(pipeline), end='\\n'*2)\n",
    "\n",
    "outputs = pipeline.execute(verbose=True)"
   ]
  },
  {
   "cell_type": "code",
   "execution_count": 10,
   "metadata": {},
   "outputs": [
    {
     "data": {
      "text/plain": [
       "{'dem': Raster(path=PosixPath('/media/alex/alex/python-modules-packages-utils/scripts/geomorphology/tools/PySAGA_cmd/PySAGA_cmd/assets/DEM_30m.tif')),\n",
       " 'sinkroute': Raster(path=PosixPath('/tmp/tmp7vwnzyj3/sinkroute_1713088461.tif')),\n",
       " 'dem_preproc': Raster(path=PosixPath('/tmp/tmp7vwnzyj3/dem_preproc_1713088461.tif'))}"
      ]
     },
     "execution_count": 10,
     "metadata": {},
     "output_type": "execute_result"
    }
   ],
   "source": [
    "outputs[-1].rasters"
   ]
  }
 ],
 "metadata": {
  "kernelspec": {
   "display_name": "base",
   "language": "python",
   "name": "python3"
  },
  "language_info": {
   "codemirror_mode": {
    "name": "ipython",
    "version": 3
   },
   "file_extension": ".py",
   "mimetype": "text/x-python",
   "name": "python",
   "nbconvert_exporter": "python",
   "pygments_lexer": "ipython3",
   "version": "3.10.14"
  }
 },
 "nbformat": 4,
 "nbformat_minor": 2
}
