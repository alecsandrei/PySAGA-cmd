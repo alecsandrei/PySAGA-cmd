{
 "cells": [
  {
   "cell_type": "code",
   "execution_count": 2,
   "id": "e67418ca-b46f-4131-8596-2915e382543e",
   "metadata": {},
   "outputs": [],
   "source": [
    "from PySAGA_cmd import SAGA"
   ]
  },
  {
   "cell_type": "code",
   "execution_count": 3,
   "id": "ff84e64a-5d78-4e99-bd52-b49ac369f12c",
   "metadata": {},
   "outputs": [],
   "source": [
    "# Defining saga_cmd location\n",
    "saga_cmd = '/usr/bin/saga_cmd'\n",
    "\n",
    "# Instantiating a SAGA environment\n",
    "saga = SAGA(saga_cmd)\n",
    "\n",
    "# Choosing a library\n",
    "ta_morphometry = saga / 'ta_morphometry'\n",
    "\n",
    "# Choosing a tool\n",
    "slope_aspect = ta_morphometry / 'Slope, Aspect, Curvature'"
   ]
  },
  {
   "cell_type": "code",
   "execution_count": 4,
   "id": "f9c3ecb0-0737-4db7-87cc-6c7190c68355",
   "metadata": {},
   "outputs": [
    {
     "name": "stdout",
     "output_type": "stream",
     "text": [
      "\"/usr/bin/saga_cmd\" \"ta_morphometry\" \"Slope, Aspect, Curvature\"\n"
     ]
    }
   ],
   "source": [
    "# This object stores the command that will be ran.\n",
    "print(slope_aspect.command)"
   ]
  },
  {
   "cell_type": "code",
   "execution_count": 7,
   "id": "3c51b3e1-7660-4dbd-95af-d994a258ea80",
   "metadata": {},
   "outputs": [
    {
     "name": "stdout",
     "output_type": "stream",
     "text": [
      "\"/usr/bin/saga_cmd\" \"--help\" \"ta_morphometry\" \"Slope, Aspect, Curvature\"\n"
     ]
    }
   ],
   "source": [
    "# To add a flag, use the flag setter.\n",
    "slope_aspect.flag = 'help'\n",
    "print(slope_aspect.command)"
   ]
  },
  {
   "cell_type": "code",
   "execution_count": 10,
   "id": "c7bb3d76-8c05-476a-931b-a4792d3036b4",
   "metadata": {},
   "outputs": [
    {
     "name": "stdout",
     "output_type": "stream",
     "text": [
      "\"/usr/bin/saga_cmd\" \"ta_morphometry\" \"Slope, Aspect, Curvature\"\n",
      "\"/usr/bin/saga_cmd\" \"--cores=8\" \"ta_morphometry\" \"Slope, Aspect, Curvature\"\n",
      "\"/usr/bin/saga_cmd\" \"ta_morphometry\" \"Slope, Aspect, Curvature\"\n"
     ]
    }
   ],
   "source": [
    "# To remove the flag, set the flag attribute to None.\n",
    "slope_aspect.flag = None\n",
    "print(slope_aspect.command)\n",
    "# Or use the deleter.\n",
    "slope_aspect.flag = 'cores=8'\n",
    "print(slope_aspect.command)\n",
    "del slope_aspect.flag\n",
    "print(slope_aspect.command)"
   ]
  },
  {
   "cell_type": "code",
   "execution_count": 14,
   "id": "0aa29a03-e9ae-4429-8a5c-af1d36637850",
   "metadata": {},
   "outputs": [
    {
     "name": "stdout",
     "output_type": "stream",
     "text": [
      "____________________________\n",
      "\n",
      "   #####   ##   #####    ##\n",
      "  ###     ###  ##       ###\n",
      "   ###   # ## ##  #### # ##\n",
      "    ### ##### ##    # #####\n",
      " ##### #   ##  ##### #   ##\n",
      "____________________________\n",
      "\n",
      "SAGA Version: 7.3.0\n",
      "\n",
      "____________________________\n",
      "library path: /usr/lib/x86_64-linux-gnu/saga/\n",
      "library name: libta_morphometry\n",
      "library     : ta_morphometry\n",
      "tool        : Slope, Aspect, Curvature\n",
      "identifier  : 0\n",
      "author      : O.Conrad (c) 2001\n",
      "processors  : 4 [4]\n",
      "____________________________\n",
      "\n",
      "Name:\tSlope, Aspect, Curvature\n",
      "ID:\t0\n",
      "Author:\tO.Conrad (c) 2001\n",
      "Version:\t1.0\n",
      "Specification:\tgrid\n",
      "\n",
      "____________________________\n",
      "Description:\n",
      "Calculates the local morphometric terrain parameters slope, aspect and if supported by the chosen method also the curvature. Besides tangential curvature also its horizontal and vertical components (i.e. plan and profile curvature) can be calculated.\n",
      "____________________________\n",
      "\n",
      "References:\n",
      " - <b>Travis, M.R., Elsner, G.H., Iverson, W.D., Johnson, C.G. (1975):</b> VIEWIT: computation of seen areas, slope, and aspect for land-use planning. USDA F.S. Gen. Tech. Rep. PSW-11/1975, 70p. Berkeley, California, U.S.A.\n",
      " - <b>Tarboton, D.G. (1997):</b> A new method for the determination of flow directions and upslope areas in grid digital elevation models. Water Resources Research, Vol.33, No.2, p.309-319.\n",
      " - <b>Horn, B. K. (1981):</b> Hill shading and the relectance map. Proceedings of the IEEE, v. 69, no. 1, p.14-47.\n",
      " - <b>Beasley, D.B., Huggins, L.F. (1982):</b> ANSWERS: User's manual. U.S. EPA-905/9-82-001, Chicago, IL. 54pp.\n",
      " - <b>Costa-Cabral, M., Burges, S.J. (1994):</b> Digital Elevation Model Networks (DEMON): a model of flow over hillslopes for computation of contributing and dispersal areas. Water Resources Research, v. 30, no. 6, p.1681-1692.\n",
      " - <b>Evans, I.S. (1979):</b> An integrated system of terrain analysis and slope mapping. Final report on grant DA-ERO-591-73-G0040, University of Durham, England.\n",
      " - <b>Bauer, J., Rohdenburg, H., Bork, H.-R. (1985):</b> Ein Digitales Reliefmodell als Vorraussetzung fuer ein deterministisches Modell der Wasser- und Stoff-Fluesse. In: Bork, H.-R., Rohdenburg, H. [Eds.]: Parameteraufbereitung fuer deterministische Gebietswassermodelle, Grundlagenarbeiten zur Analyse von Agrar-Oekosystemen, Landschaftsgenese und Landschaftsoekologie, H.10, p.1-15.\n",
      " - <b>Heerdegen, R.G., Beran, M.A. (1982):</b> Quantifying source areas through land surface curvature. Journal of Hydrology, Vol.57.\n",
      " - <b>Olaya, V. (2006):</b> Basic Land-Surface Parameters. In: Hengl, T., Reuter, H.I. [Eds.]: Geomorphometry: Concepts, Software, Applications. Developments in Soil Science, Elsevier, Vol.33, 141-169.\n",
      " - <b>Zevenbergen, L.W., Thorne, C.R. (1987):</b> Quantitative analysis of land surface topography. Earth Surface Processes and Landforms, 12: 47-56.\n",
      " - <b>Haralick, R.M. (1983):</b> Ridge and valley detection on digital images. Computer Vision, Graphics and Image Processing, Vol.22, No.1, p.28-38.\n",
      "\n",
      "____________________________\n",
      "Input:\n",
      "_\n",
      "Elevation\n",
      "ELEVATION\n",
      "Grid (input)\n",
      "\n",
      "\n",
      "____________________________\n",
      "Output:\n",
      "_\n",
      "Slope\n",
      "SLOPE\n",
      "Grid (output)\n",
      "\n",
      "\n",
      "_\n",
      "Aspect\n",
      "ASPECT\n",
      "Grid (output)\n",
      "\n",
      "\n",
      "_\n",
      "General Curvature\n",
      "C_GENE\n",
      "Grid (optional output)\n",
      "\n",
      "\n",
      "_\n",
      "Profile Curvature\n",
      "C_PROF\n",
      "Grid (optional output)\n",
      "\n",
      "\n",
      "_\n",
      "Plan Curvature\n",
      "C_PLAN\n",
      "Grid (optional output)\n",
      "\n",
      "\n",
      "_\n",
      "Tangential Curvature\n",
      "C_TANG\n",
      "Grid (optional output)\n",
      "\n",
      "\n",
      "_\n",
      "Longitudinal Curvature\n",
      "C_LONG\n",
      "Grid (optional output)\n",
      "Zevenbergen & Thorne (1987) refer to this as profile curvature\n",
      "\n",
      "_\n",
      "Cross-Sectional Curvature\n",
      "C_CROS\n",
      "Grid (optional output)\n",
      "Zevenbergen & Thorne (1987) refer to this as plan curvature\n",
      "\n",
      "_\n",
      "Minimal Curvature\n",
      "C_MINI\n",
      "Grid (optional output)\n",
      "\n",
      "\n",
      "_\n",
      "Maximal Curvature\n",
      "C_MAXI\n",
      "Grid (optional output)\n",
      "\n",
      "\n",
      "_\n",
      "Total Curvature\n",
      "C_TOTA\n",
      "Grid (optional output)\n",
      "\n",
      "\n",
      "_\n",
      "Flow Line Curvature\n",
      "C_ROTO\n",
      "Grid (optional output)\n",
      "\n",
      "\n",
      "____________________________\n",
      "Options:\n",
      "_\n",
      "Method\n",
      "METHOD\n",
      "Choice\n",
      "\n",
      "Available Choices:\n",
      "[0] maximum slope (Travis et al. 1975)\n",
      "[1] maximum triangle slope (Tarboton 1997)\n",
      "[2] least squares fitted plane (Horn 1981, Costa-Cabral & Burgess 1996)\n",
      "[3] 6 parameter 2nd order polynom (Evans 1979)\n",
      "[4] 6 parameter 2nd order polynom (Heerdegen & Beran 1982)\n",
      "[5] 6 parameter 2nd order polynom (Bauer, Rohdenburg, Bork 1985)\n",
      "[6] 9 parameter 2nd order polynom (Zevenbergen & Thorne 1987)\n",
      "[7] 10 parameter 3rd order polynom (Haralick 1983)\n",
      "Default: 6\n",
      "_\n",
      "Slope Units\n",
      "UNIT_SLOPE\n",
      "Choice\n",
      "\n",
      "Available Choices:\n",
      "[0] radians\n",
      "[1] degree\n",
      "[2] percent\n",
      "Default: 0\n",
      "_\n",
      "Aspect Units\n",
      "UNIT_ASPECT\n",
      "Choice\n",
      "\n",
      "Available Choices:\n",
      "[0] radians\n",
      "[1] degree\n",
      "Default: 0\n",
      "\n",
      "\n"
     ]
    }
   ],
   "source": [
    "# To run the command, simply use the run_command() method which will return an Output object.\n",
    "# The text attribute of the Output object stores the output text of the command.\n",
    "slope_aspect.flag = 'help'\n",
    "output = slope_aspect.execute()\n",
    "print(output.text)"
   ]
  }
 ],
 "metadata": {
  "kernelspec": {
   "display_name": "Python 3 (ipykernel)",
   "language": "python",
   "name": "python3"
  },
  "language_info": {
   "codemirror_mode": {
    "name": "ipython",
    "version": 3
   },
   "file_extension": ".py",
   "mimetype": "text/x-python",
   "name": "python",
   "nbconvert_exporter": "python",
   "pygments_lexer": "ipython3",
   "version": "3.12.1"
  }
 },
 "nbformat": 4,
 "nbformat_minor": 5
}
