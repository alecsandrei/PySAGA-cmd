{
 "cells": [
  {
   "cell_type": "code",
   "execution_count": 2,
   "metadata": {},
   "outputs": [
    {
     "ename": "NameError",
     "evalue": "name 'dem' is not defined",
     "output_type": "error",
     "traceback": [
      "\u001b[0;31m---------------------------------------------------------------------------\u001b[0m",
      "\u001b[0;31mNameError\u001b[0m                                 Traceback (most recent call last)",
      "Cell \u001b[0;32mIn[2], line 24\u001b[0m\n\u001b[1;32m     21\u001b[0m shading \u001b[38;5;241m=\u001b[39m saga \u001b[38;5;241m/\u001b[39m \u001b[38;5;124m'\u001b[39m\u001b[38;5;124mta_lighting\u001b[39m\u001b[38;5;124m'\u001b[39m \u001b[38;5;241m/\u001b[39m \u001b[38;5;124m'\u001b[39m\u001b[38;5;124mAnalytical Hillshading\u001b[39m\u001b[38;5;124m'\u001b[39m\n\u001b[1;32m     23\u001b[0m \u001b[38;5;66;03m# Executing tools.\u001b[39;00m\n\u001b[0;32m---> 24\u001b[0m output1 \u001b[38;5;241m=\u001b[39m slope_aspect_curvature\u001b[38;5;241m.\u001b[39mexecute(verbose\u001b[38;5;241m=\u001b[39m\u001b[38;5;28;01mTrue\u001b[39;00m, elevation\u001b[38;5;241m=\u001b[39m\u001b[43mdem\u001b[49m, slope\u001b[38;5;241m=\u001b[39m\u001b[38;5;124m'\u001b[39m\u001b[38;5;124mtemp.sdat\u001b[39m\u001b[38;5;124m'\u001b[39m)\n\u001b[1;32m     25\u001b[0m elevation, slope \u001b[38;5;241m=\u001b[39m output1\u001b[38;5;241m.\u001b[39mget_raster([\u001b[38;5;124m'\u001b[39m\u001b[38;5;124melevation\u001b[39m\u001b[38;5;124m'\u001b[39m, \u001b[38;5;124m'\u001b[39m\u001b[38;5;124mslope\u001b[39m\u001b[38;5;124m'\u001b[39m])\n\u001b[1;32m     27\u001b[0m output2 \u001b[38;5;241m=\u001b[39m shading\u001b[38;5;241m.\u001b[39mexecute(verbose\u001b[38;5;241m=\u001b[39m\u001b[38;5;28;01mTrue\u001b[39;00m, elevation\u001b[38;5;241m=\u001b[39mdem, shade\u001b[38;5;241m=\u001b[39m\u001b[38;5;124m'\u001b[39m\u001b[38;5;124mtemp.sdat\u001b[39m\u001b[38;5;124m'\u001b[39m, method\u001b[38;5;241m=\u001b[39m\u001b[38;5;124m'\u001b[39m\u001b[38;5;124m5\u001b[39m\u001b[38;5;124m'\u001b[39m)\n",
      "\u001b[0;31mNameError\u001b[0m: name 'dem' is not defined"
     ]
    }
   ],
   "source": [
    "from PySAGA_cmd import SAGA\n",
    "\n",
    "\n",
    "saga = SAGA('/usr/local/bin/saga_cmd')\n",
    "\n",
    "# Choosing libraries.\n",
    "preprocessor = saga / 'ta_preprocessor'\n",
    "\n",
    "# Choosing tools.\n",
    "route_detection = preprocessor / 'Sink Drainage Route Detection'\n",
    "sink_removal = preprocessor / 'Sink Removal'\n",
    "flow_accumulation = saga / 'ta_hydrology' / 'Flow Accumulation (Parallelizable)'\n",
    "\n",
    "# If you set a flag to the SAGA object that would stop the tool\n",
    "# from working (like 'help'), make sure to remove it before accesing\n",
    "# the tools, like so:\n",
    "saga.flag = None\n",
    "\n",
    "# Defining tools.\n",
    "slope_aspect_curvature = saga / 'ta_morphometry' / 0  # We can also use tool indices to access.\n",
    "shading = saga / 'ta_lighting' / 'Analytical Hillshading'\n",
    "\n",
    "# Executing tools.\n",
    "output1 = slope_aspect_curvature.execute(verbose=True, elevation=dem, slope='temp.sdat')\n",
    "elevation, slope = output1.get_raster(['elevation', 'slope'])\n",
    "\n",
    "output2 = shading.execute(verbose=True, elevation=dem, shade='temp.sdat', method='5')\n",
    "shading = output2.get_raster('shade')[0]\n",
    "\n",
    "\n",
    "import matplotlib.pyplot as plt\n",
    "from matplotlib import gridspec\n",
    "\n",
    "\n",
    "fig = plt.figure(figsize=(15, 10))\n",
    "\n",
    "gs = gridspec.GridSpec(2, 2, height_ratios=[1.5, 1])\n",
    "ax1 = fig.add_subplot(gs[0])\n",
    "ax2 = fig.add_subplot(gs[1])\n",
    "ax3 = fig.add_subplot(gs[2])\n",
    "ax4 = fig.add_subplot(gs[3])\n",
    "\n",
    "# Maps\n",
    "elevation.plot(ax=ax1, cmap='terrain', cbar_kwargs=dict(label='Elevation (meters)'))\n",
    "slope.plot(ax=ax2, cmap='rainbow', cbar_kwargs=dict(label='Radians'))\n",
    "shading.plot(ax=ax1, cbar=False, alpha=0.45)\n",
    "ax1.set_title('Elevation map (hydrologically preprocessed)')\n",
    "ax2.set_title('Slope map')\n",
    " \n",
    "# Histograms\n",
    "hist_kwargs = {\n",
    "    'bins': 15, 'alpha': 0.65,\n",
    "    'facecolor': '#2ab0ff', 'edgecolor':'#169acf',\n",
    "    'linewidth': 0.5\n",
    "}\n",
    "elevation.hist(ax=ax3, **hist_kwargs)\n",
    "slope.hist(ax=ax4, **hist_kwargs)\n",
    " \n",
    "plt.tight_layout()\n",
    "\n",
    "saga.temp_dir_cleanup()"
   ]
  }
 ],
 "metadata": {
  "kernelspec": {
   "display_name": "gis",
   "language": "python",
   "name": "python3"
  },
  "language_info": {
   "codemirror_mode": {
    "name": "ipython",
    "version": 3
   },
   "file_extension": ".py",
   "mimetype": "text/x-python",
   "name": "python",
   "nbconvert_exporter": "python",
   "pygments_lexer": "ipython3",
   "version": "3.12.1"
  }
 },
 "nbformat": 4,
 "nbformat_minor": 2
}
